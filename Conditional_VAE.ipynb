{
  "cells": [
    {
      "cell_type": "markdown",
      "metadata": {
        "id": "6iabFm-z_Jes"
      },
      "source": []
    },
    {
      "cell_type": "markdown",
      "source": [
        "## **Mount Google Drive**"
      ],
      "metadata": {
        "id": "LPKIViaVs2FD"
      }
    },
    {
      "cell_type": "code",
      "source": [
        "from google.colab import drive\n",
        "drive.mount('/content/drive/')"
      ],
      "metadata": {
        "colab": {
          "base_uri": "https://localhost:8080/"
        },
        "id": "yPh-r5JYs7Iz",
        "outputId": "47c04b14-8115-42ab-c543-559ff14e640f"
      },
      "execution_count": 24,
      "outputs": [
        {
          "output_type": "stream",
          "name": "stdout",
          "text": [
            "Mounted at /content/drive/\n"
          ]
        }
      ]
    },
    {
      "cell_type": "markdown",
      "metadata": {
        "id": "L5tqAbcS_WPR"
      },
      "source": [
        "#Load the Library"
      ]
    },
    {
      "cell_type": "code",
      "execution_count": 1,
      "metadata": {
        "colab": {
          "base_uri": "https://localhost:8080/"
        },
        "id": "k3ahS2Xj-tQE",
        "outputId": "aa477fe5-049e-4210-c46a-223d8ec6dff1"
      },
      "outputs": [
        {
          "output_type": "stream",
          "name": "stdout",
          "text": [
            "Requirement already satisfied: torch in /usr/local/lib/python3.10/dist-packages (2.3.0+cu121)\n",
            "Requirement already satisfied: torchvision in /usr/local/lib/python3.10/dist-packages (0.18.0+cu121)\n",
            "Collecting medmnist\n",
            "  Downloading medmnist-3.0.1-py3-none-any.whl (25 kB)\n",
            "Requirement already satisfied: filelock in /usr/local/lib/python3.10/dist-packages (from torch) (3.15.4)\n",
            "Requirement already satisfied: typing-extensions>=4.8.0 in /usr/local/lib/python3.10/dist-packages (from torch) (4.12.2)\n",
            "Requirement already satisfied: sympy in /usr/local/lib/python3.10/dist-packages (from torch) (1.12.1)\n",
            "Requirement already satisfied: networkx in /usr/local/lib/python3.10/dist-packages (from torch) (3.3)\n",
            "Requirement already satisfied: jinja2 in /usr/local/lib/python3.10/dist-packages (from torch) (3.1.4)\n",
            "Requirement already satisfied: fsspec in /usr/local/lib/python3.10/dist-packages (from torch) (2023.6.0)\n",
            "Collecting nvidia-cuda-nvrtc-cu12==12.1.105 (from torch)\n",
            "  Using cached nvidia_cuda_nvrtc_cu12-12.1.105-py3-none-manylinux1_x86_64.whl (23.7 MB)\n",
            "Collecting nvidia-cuda-runtime-cu12==12.1.105 (from torch)\n",
            "  Using cached nvidia_cuda_runtime_cu12-12.1.105-py3-none-manylinux1_x86_64.whl (823 kB)\n",
            "Collecting nvidia-cuda-cupti-cu12==12.1.105 (from torch)\n",
            "  Using cached nvidia_cuda_cupti_cu12-12.1.105-py3-none-manylinux1_x86_64.whl (14.1 MB)\n",
            "Collecting nvidia-cudnn-cu12==8.9.2.26 (from torch)\n",
            "  Using cached nvidia_cudnn_cu12-8.9.2.26-py3-none-manylinux1_x86_64.whl (731.7 MB)\n",
            "Collecting nvidia-cublas-cu12==12.1.3.1 (from torch)\n",
            "  Using cached nvidia_cublas_cu12-12.1.3.1-py3-none-manylinux1_x86_64.whl (410.6 MB)\n",
            "Collecting nvidia-cufft-cu12==11.0.2.54 (from torch)\n",
            "  Using cached nvidia_cufft_cu12-11.0.2.54-py3-none-manylinux1_x86_64.whl (121.6 MB)\n",
            "Collecting nvidia-curand-cu12==10.3.2.106 (from torch)\n",
            "  Using cached nvidia_curand_cu12-10.3.2.106-py3-none-manylinux1_x86_64.whl (56.5 MB)\n",
            "Collecting nvidia-cusolver-cu12==11.4.5.107 (from torch)\n",
            "  Using cached nvidia_cusolver_cu12-11.4.5.107-py3-none-manylinux1_x86_64.whl (124.2 MB)\n",
            "Collecting nvidia-cusparse-cu12==12.1.0.106 (from torch)\n",
            "  Using cached nvidia_cusparse_cu12-12.1.0.106-py3-none-manylinux1_x86_64.whl (196.0 MB)\n",
            "Collecting nvidia-nccl-cu12==2.20.5 (from torch)\n",
            "  Using cached nvidia_nccl_cu12-2.20.5-py3-none-manylinux2014_x86_64.whl (176.2 MB)\n",
            "Collecting nvidia-nvtx-cu12==12.1.105 (from torch)\n",
            "  Using cached nvidia_nvtx_cu12-12.1.105-py3-none-manylinux1_x86_64.whl (99 kB)\n",
            "Requirement already satisfied: triton==2.3.0 in /usr/local/lib/python3.10/dist-packages (from torch) (2.3.0)\n",
            "Collecting nvidia-nvjitlink-cu12 (from nvidia-cusolver-cu12==11.4.5.107->torch)\n",
            "  Downloading nvidia_nvjitlink_cu12-12.5.82-py3-none-manylinux2014_x86_64.whl (21.3 MB)\n",
            "\u001b[2K     \u001b[90m━━━━━━━━━━━━━━━━━━━━━━━━━━━━━━━━━━━━━━━━\u001b[0m \u001b[32m21.3/21.3 MB\u001b[0m \u001b[31m62.1 MB/s\u001b[0m eta \u001b[36m0:00:00\u001b[0m\n",
            "\u001b[?25hRequirement already satisfied: numpy in /usr/local/lib/python3.10/dist-packages (from torchvision) (1.25.2)\n",
            "Requirement already satisfied: pillow!=8.3.*,>=5.3.0 in /usr/local/lib/python3.10/dist-packages (from torchvision) (9.4.0)\n",
            "Requirement already satisfied: pandas in /usr/local/lib/python3.10/dist-packages (from medmnist) (2.0.3)\n",
            "Requirement already satisfied: scikit-learn in /usr/local/lib/python3.10/dist-packages (from medmnist) (1.2.2)\n",
            "Requirement already satisfied: scikit-image in /usr/local/lib/python3.10/dist-packages (from medmnist) (0.19.3)\n",
            "Requirement already satisfied: tqdm in /usr/local/lib/python3.10/dist-packages (from medmnist) (4.66.4)\n",
            "Collecting fire (from medmnist)\n",
            "  Downloading fire-0.6.0.tar.gz (88 kB)\n",
            "\u001b[2K     \u001b[90m━━━━━━━━━━━━━━━━━━━━━━━━━━━━━━━━━━━━━━━━\u001b[0m \u001b[32m88.4/88.4 kB\u001b[0m \u001b[31m13.1 MB/s\u001b[0m eta \u001b[36m0:00:00\u001b[0m\n",
            "\u001b[?25h  Preparing metadata (setup.py) ... \u001b[?25l\u001b[?25hdone\n",
            "Requirement already satisfied: six in /usr/local/lib/python3.10/dist-packages (from fire->medmnist) (1.16.0)\n",
            "Requirement already satisfied: termcolor in /usr/local/lib/python3.10/dist-packages (from fire->medmnist) (2.4.0)\n",
            "Requirement already satisfied: MarkupSafe>=2.0 in /usr/local/lib/python3.10/dist-packages (from jinja2->torch) (2.1.5)\n",
            "Requirement already satisfied: python-dateutil>=2.8.2 in /usr/local/lib/python3.10/dist-packages (from pandas->medmnist) (2.8.2)\n",
            "Requirement already satisfied: pytz>=2020.1 in /usr/local/lib/python3.10/dist-packages (from pandas->medmnist) (2023.4)\n",
            "Requirement already satisfied: tzdata>=2022.1 in /usr/local/lib/python3.10/dist-packages (from pandas->medmnist) (2024.1)\n",
            "Requirement already satisfied: scipy>=1.4.1 in /usr/local/lib/python3.10/dist-packages (from scikit-image->medmnist) (1.11.4)\n",
            "Requirement already satisfied: imageio>=2.4.1 in /usr/local/lib/python3.10/dist-packages (from scikit-image->medmnist) (2.31.6)\n",
            "Requirement already satisfied: tifffile>=2019.7.26 in /usr/local/lib/python3.10/dist-packages (from scikit-image->medmnist) (2024.6.18)\n",
            "Requirement already satisfied: PyWavelets>=1.1.1 in /usr/local/lib/python3.10/dist-packages (from scikit-image->medmnist) (1.6.0)\n",
            "Requirement already satisfied: packaging>=20.0 in /usr/local/lib/python3.10/dist-packages (from scikit-image->medmnist) (24.1)\n",
            "Requirement already satisfied: joblib>=1.1.1 in /usr/local/lib/python3.10/dist-packages (from scikit-learn->medmnist) (1.4.2)\n",
            "Requirement already satisfied: threadpoolctl>=2.0.0 in /usr/local/lib/python3.10/dist-packages (from scikit-learn->medmnist) (3.5.0)\n",
            "Requirement already satisfied: mpmath<1.4.0,>=1.1.0 in /usr/local/lib/python3.10/dist-packages (from sympy->torch) (1.3.0)\n",
            "Building wheels for collected packages: fire\n",
            "  Building wheel for fire (setup.py) ... \u001b[?25l\u001b[?25hdone\n",
            "  Created wheel for fire: filename=fire-0.6.0-py2.py3-none-any.whl size=117029 sha256=8cb99530748ad1f49a51f86856ffbb4101589aea4c2fe24c345e13e6af73ffce\n",
            "  Stored in directory: /root/.cache/pip/wheels/d6/6d/5d/5b73fa0f46d01a793713f8859201361e9e581ced8c75e5c6a3\n",
            "Successfully built fire\n",
            "Installing collected packages: nvidia-nvtx-cu12, nvidia-nvjitlink-cu12, nvidia-nccl-cu12, nvidia-curand-cu12, nvidia-cufft-cu12, nvidia-cuda-runtime-cu12, nvidia-cuda-nvrtc-cu12, nvidia-cuda-cupti-cu12, nvidia-cublas-cu12, fire, nvidia-cusparse-cu12, nvidia-cudnn-cu12, nvidia-cusolver-cu12, medmnist\n",
            "Successfully installed fire-0.6.0 medmnist-3.0.1 nvidia-cublas-cu12-12.1.3.1 nvidia-cuda-cupti-cu12-12.1.105 nvidia-cuda-nvrtc-cu12-12.1.105 nvidia-cuda-runtime-cu12-12.1.105 nvidia-cudnn-cu12-8.9.2.26 nvidia-cufft-cu12-11.0.2.54 nvidia-curand-cu12-10.3.2.106 nvidia-cusolver-cu12-11.4.5.107 nvidia-cusparse-cu12-12.1.0.106 nvidia-nccl-cu12-2.20.5 nvidia-nvjitlink-cu12-12.5.82 nvidia-nvtx-cu12-12.1.105\n",
            "Requirement already satisfied: matplotlib in /usr/local/lib/python3.10/dist-packages (3.7.1)\n",
            "Collecting matplotlib\n",
            "  Downloading matplotlib-3.9.0-cp310-cp310-manylinux_2_17_x86_64.manylinux2014_x86_64.whl (8.3 MB)\n",
            "\u001b[2K     \u001b[90m━━━━━━━━━━━━━━━━━━━━━━━━━━━━━━━━━━━━━━━━\u001b[0m \u001b[32m8.3/8.3 MB\u001b[0m \u001b[31m31.6 MB/s\u001b[0m eta \u001b[36m0:00:00\u001b[0m\n",
            "\u001b[?25hRequirement already satisfied: contourpy>=1.0.1 in /usr/local/lib/python3.10/dist-packages (from matplotlib) (1.2.1)\n",
            "Requirement already satisfied: cycler>=0.10 in /usr/local/lib/python3.10/dist-packages (from matplotlib) (0.12.1)\n",
            "Requirement already satisfied: fonttools>=4.22.0 in /usr/local/lib/python3.10/dist-packages (from matplotlib) (4.53.0)\n",
            "Requirement already satisfied: kiwisolver>=1.3.1 in /usr/local/lib/python3.10/dist-packages (from matplotlib) (1.4.5)\n",
            "Requirement already satisfied: numpy>=1.23 in /usr/local/lib/python3.10/dist-packages (from matplotlib) (1.25.2)\n",
            "Requirement already satisfied: packaging>=20.0 in /usr/local/lib/python3.10/dist-packages (from matplotlib) (24.1)\n",
            "Requirement already satisfied: pillow>=8 in /usr/local/lib/python3.10/dist-packages (from matplotlib) (9.4.0)\n",
            "Requirement already satisfied: pyparsing>=2.3.1 in /usr/local/lib/python3.10/dist-packages (from matplotlib) (3.1.2)\n",
            "Requirement already satisfied: python-dateutil>=2.7 in /usr/local/lib/python3.10/dist-packages (from matplotlib) (2.8.2)\n",
            "Requirement already satisfied: six>=1.5 in /usr/local/lib/python3.10/dist-packages (from python-dateutil>=2.7->matplotlib) (1.16.0)\n",
            "Installing collected packages: matplotlib\n",
            "  Attempting uninstall: matplotlib\n",
            "    Found existing installation: matplotlib 3.7.1\n",
            "    Uninstalling matplotlib-3.7.1:\n",
            "      Successfully uninstalled matplotlib-3.7.1\n",
            "Successfully installed matplotlib-3.9.0\n",
            "Collecting torchinfo\n",
            "  Downloading torchinfo-1.8.0-py3-none-any.whl (23 kB)\n",
            "Installing collected packages: torchinfo\n",
            "Successfully installed torchinfo-1.8.0\n"
          ]
        }
      ],
      "source": [
        "!pip install torch torchvision medmnist\n",
        "!pip install --upgrade matplotlib\n",
        "!pip install torchinfo"
      ]
    },
    {
      "cell_type": "code",
      "execution_count": 2,
      "metadata": {
        "id": "-0ENNGrt_Z6r"
      },
      "outputs": [],
      "source": [
        "import torch\n",
        "import torch.nn as nn\n",
        "import torch.optim as optim\n",
        "from torchvision import transforms\n",
        "from torch.utils.data import DataLoader, Dataset\n",
        "import matplotlib.pyplot as plt\n",
        "import medmnist\n",
        "from medmnist import INFO\n",
        "import os, time, tqdm\n",
        "import torch.nn.functional as F"
      ]
    },
    {
      "cell_type": "code",
      "execution_count": 3,
      "metadata": {
        "id": "_32c4DGG_hcj"
      },
      "outputs": [],
      "source": [
        "import os\n",
        "os.environ['CUDA_LAUNCH_BLOCKING'] = '1'"
      ]
    },
    {
      "cell_type": "code",
      "execution_count": 4,
      "metadata": {
        "colab": {
          "base_uri": "https://localhost:8080/"
        },
        "id": "CH9dw99q_nkz",
        "outputId": "11634c08-edf2-4802-c66d-2c1587be30a0"
      },
      "outputs": [
        {
          "output_type": "stream",
          "name": "stdout",
          "text": [
            "Using device: cuda:0\n"
          ]
        }
      ],
      "source": [
        "device = torch.device('cuda:0' if torch.cuda.is_available() else 'cpu')\n",
        "\n",
        "print(f'Using device: {device}')"
      ]
    },
    {
      "cell_type": "markdown",
      "metadata": {
        "id": "ZjzXUB8d_y11"
      },
      "source": [
        "##Pre-processing the data"
      ]
    },
    {
      "cell_type": "code",
      "execution_count": 5,
      "metadata": {
        "colab": {
          "base_uri": "https://localhost:8080/"
        },
        "id": "OW2ZJtaS7Z-P",
        "outputId": "afbb8596-98bf-471c-a619-887ce20a77e4"
      },
      "outputs": [
        {
          "output_type": "stream",
          "name": "stdout",
          "text": [
            "Downloading https://zenodo.org/records/10519652/files/pathmnist.npz?download=1 to /root/.medmnist/pathmnist.npz\n"
          ]
        },
        {
          "output_type": "stream",
          "name": "stderr",
          "text": [
            "100%|██████████| 205615438/205615438 [00:01<00:00, 151906963.05it/s]\n"
          ]
        },
        {
          "output_type": "stream",
          "name": "stdout",
          "text": [
            "Downloading https://zenodo.org/records/10519652/files/bloodmnist.npz?download=1 to /root/.medmnist/bloodmnist.npz\n"
          ]
        },
        {
          "output_type": "stream",
          "name": "stderr",
          "text": [
            "100%|██████████| 35461855/35461855 [00:00<00:00, 101956771.08it/s]\n"
          ]
        },
        {
          "output_type": "stream",
          "name": "stdout",
          "text": [
            "Downloading https://zenodo.org/records/10519652/files/dermamnist.npz?download=1 to /root/.medmnist/dermamnist.npz\n"
          ]
        },
        {
          "output_type": "stream",
          "name": "stderr",
          "text": [
            "100%|██████████| 19725078/19725078 [00:00<00:00, 70427164.65it/s]\n"
          ]
        }
      ],
      "source": [
        "#importing three datasets\n",
        "\"\"\"\n",
        "PathMNIST:\n",
        "Facts of PathMNIST\n",
        "Data Modality: Colon Pathology\n",
        "Task: Multi-Class (9)\n",
        "Number of Samples: 107,180 (89,996 / 10,004 / 7,180)\n",
        "-------\n",
        "\n",
        "ChestMNIST:\n",
        "Data Modality: Chest X-Ray\n",
        "Task: Multi-Label (14) Binary-Class (2)\n",
        "Number of Samples: 112,120 (78,468 / 11,219 / 22,433)\n",
        "\n",
        "PneumoniaMNIST:\n",
        "Data Modality: Chest X-Ray\n",
        "Task: Binary-Class (2)\n",
        "Number of Samples: 5,856 (4,708 / 524 / 624\n",
        "\n",
        "BloodMNIST:\n",
        "Data Modality: Blood Cell Microscope\n",
        "Task: Multi-Class (8)\n",
        "Number of Samples: 17,092 (11,959 / 1,712 / 3,421)\n",
        "\n",
        "DermaMNIST:\n",
        "Data Modality: Dermatoscope\n",
        "Task: Multi-Class (7)\n",
        "Number of Samples: 10,015 (7,007 / 1,003 / 2,005)\n",
        "\"\"\"\n",
        "# transforms\n",
        "def crop(x, low, high):\n",
        "    x[x<=low] = low\n",
        "    x[x>=high] = high\n",
        "    return x\n",
        "\n",
        "transform = transforms.Compose([\n",
        "    # transforms.Grayscale(num_output_channels=1),\n",
        "    transforms.ToTensor(),\n",
        "    transforms.Normalize(mean=[.5], std=[.5]),\n",
        "    transforms.Lambda(lambda x: crop(x, 0., 1.))\n",
        "])\n",
        "\n",
        "\n",
        "from medmnist import PathMNIST, ChestMNIST, BloodMNIST, PneumoniaMNIST, DermaMNIST\n",
        "path_dataset = PathMNIST(split=\"train\",download=True, transform = transform,  target_transform= lambda x : 0 if x > 0 else -1)\n",
        "# chest_dataset = ChestMNIST(split=\"train\",download=True)\n",
        "blood_dataset = BloodMNIST(split=\"train\",download=True, transform = transform, target_transform= lambda x : 1 if x > 0 else -1)\n",
        "# pneumonia_dataset = PneumoniaMNIST(split=\"train\",download=True)\n",
        "derma_dataset = DermaMNIST(split=\"train\",download=True, transform = transform, target_transform= lambda x : 2 if x > 0 else -1)\n"
      ]
    },
    {
      "cell_type": "code",
      "execution_count": 6,
      "metadata": {
        "colab": {
          "base_uri": "https://localhost:8080/"
        },
        "id": "3R8GiSjkudrc",
        "outputId": "20ea8fd8-632b-4cdc-87f1-6589a1fe2c7b"
      },
      "outputs": [
        {
          "output_type": "stream",
          "name": "stdout",
          "text": [
            "Dataset PathMNIST of size 28 (pathmnist)\n",
            "    Number of datapoints: 89996\n",
            "    Root location: /root/.medmnist\n",
            "    Split: train\n",
            "    Task: multi-class\n",
            "    Number of channels: 3\n",
            "    Meaning of labels: {'0': 'adipose', '1': 'background', '2': 'debris', '3': 'lymphocytes', '4': 'mucus', '5': 'smooth muscle', '6': 'normal colon mucosa', '7': 'cancer-associated stroma', '8': 'colorectal adenocarcinoma epithelium'}\n",
            "    Number of samples: {'train': 89996, 'val': 10004, 'test': 7180}\n",
            "    Description: The PathMNIST is based on a prior study for predicting survival from colorectal cancer histology slides, providing a dataset (NCT-CRC-HE-100K) of 100,000 non-overlapping image patches from hematoxylin & eosin stained histological images, and a test dataset (CRC-VAL-HE-7K) of 7,180 image patches from a different clinical center. The dataset is comprised of 9 types of tissues, resulting in a multi-class classification task. We resize the source images of 3×224×224 into 3×28×28, and split NCT-CRC-HE-100K into training and validation set with a ratio of 9:1. The CRC-VAL-HE-7K is treated as the test set.\n",
            "    License: CC BY 4.0\n",
            "Dataset BloodMNIST of size 28 (bloodmnist)\n",
            "    Number of datapoints: 11959\n",
            "    Root location: /root/.medmnist\n",
            "    Split: train\n",
            "    Task: multi-class\n",
            "    Number of channels: 3\n",
            "    Meaning of labels: {'0': 'basophil', '1': 'eosinophil', '2': 'erythroblast', '3': 'immature granulocytes(myelocytes, metamyelocytes and promyelocytes)', '4': 'lymphocyte', '5': 'monocyte', '6': 'neutrophil', '7': 'platelet'}\n",
            "    Number of samples: {'train': 11959, 'val': 1712, 'test': 3421}\n",
            "    Description: The BloodMNIST is based on a dataset of individual normal cells, captured from individuals without infection, hematologic or oncologic disease and free of any pharmacologic treatment at the moment of blood collection. It contains a total of 17,092 images and is organized into 8 classes. We split the source dataset with a ratio of 7:1:2 into training, validation and test set. The source images with resolution 3×360×363 pixels are center-cropped into 3×200×200, and then resized into 3×28×28.\n",
            "    License: CC BY 4.0\n",
            "Dataset DermaMNIST of size 28 (dermamnist)\n",
            "    Number of datapoints: 7007\n",
            "    Root location: /root/.medmnist\n",
            "    Split: train\n",
            "    Task: multi-class\n",
            "    Number of channels: 3\n",
            "    Meaning of labels: {'0': 'actinic keratoses and intraepithelial carcinoma', '1': 'basal cell carcinoma', '2': 'benign keratosis-like lesions', '3': 'dermatofibroma', '4': 'melanoma', '5': 'melanocytic nevi', '6': 'vascular lesions'}\n",
            "    Number of samples: {'train': 7007, 'val': 1003, 'test': 2005}\n",
            "    Description: The DermaMNIST is based on the HAM10000, a large collection of multi-source dermatoscopic images of common pigmented skin lesions. The dataset consists of 10,015 dermatoscopic images categorized as 7 different diseases, formulized as a multi-class classification task. We split the images into training, validation and test set with a ratio of 7:1:2. The source images of 3×600×450 are resized into 3×28×28.\n",
            "    License: CC BY-NC 4.0\n"
          ]
        }
      ],
      "source": [
        "print(path_dataset)\n",
        "print(blood_dataset)\n",
        "print(derma_dataset)"
      ]
    },
    {
      "cell_type": "code",
      "execution_count": 7,
      "metadata": {
        "id": "z5790glwqcQv"
      },
      "outputs": [],
      "source": [
        "concat_dataset = torch.utils.data.ConcatDataset([\n",
        "                                           path_dataset,\n",
        "                                           derma_dataset,\n",
        "                                           blood_dataset\n",
        "                                        ])"
      ]
    },
    {
      "cell_type": "code",
      "execution_count": 8,
      "metadata": {
        "id": "MUPRpMXEFqdB"
      },
      "outputs": [],
      "source": [
        "def filter_fn(x, l):\n",
        "    if l == -1:\n",
        "        return False\n",
        "    return True\n"
      ]
    },
    {
      "cell_type": "code",
      "execution_count": 9,
      "metadata": {
        "id": "uBEivDkkqaxY"
      },
      "outputs": [],
      "source": [
        "class FilteredDataset(Dataset):\n",
        "    def __init__(self, original_dataset, filter_fn):\n",
        "        \"\"\"\n",
        "        Args:\n",
        "            original_dataset (Dataset): The original dataset to filter.\n",
        "            filter_fn (function): A function that takes (img, label, extra_label) as input and returns True if the sample should be included.\n",
        "        \"\"\"\n",
        "        self.original_dataset = original_dataset\n",
        "        self.indices = [i for i in range(len(original_dataset)) if filter_fn(*original_dataset[i])]\n",
        "\n",
        "    def __len__(self):\n",
        "        return len(self.indices)\n",
        "\n",
        "    def __getitem__(self, idx):\n",
        "        return self.original_dataset[self.indices[idx]]\n"
      ]
    },
    {
      "cell_type": "code",
      "execution_count": 10,
      "metadata": {
        "id": "GFmU4-wWGo5r"
      },
      "outputs": [],
      "source": [
        "final_dataset = FilteredDataset(concat_dataset, filter_fn)"
      ]
    },
    {
      "cell_type": "markdown",
      "source": [
        "# DataLoader"
      ],
      "metadata": {
        "id": "eE7CG9H_M_lc"
      }
    },
    {
      "cell_type": "code",
      "execution_count": 11,
      "metadata": {
        "id": "-neu8VqcIqpl"
      },
      "outputs": [],
      "source": [
        "train_loader = DataLoader(dataset=final_dataset, batch_size=128, shuffle=True)"
      ]
    },
    {
      "cell_type": "code",
      "execution_count": 11,
      "metadata": {
        "id": "34ZDsIE9-NA7"
      },
      "outputs": [],
      "source": [
        "\n"
      ]
    },
    {
      "cell_type": "code",
      "execution_count": 12,
      "metadata": {
        "id": "awZSUe7u_2DC"
      },
      "outputs": [],
      "source": [
        "\n",
        "# #MedMNIST dataset (Pathology test)\n",
        "# data_flag = 'pathmnist'\n",
        "# download = True\n",
        "\n",
        "# #dataset info\n",
        "# info = INFO[data_flag]\n",
        "# DataClass = getattr(medmnist, info['python_class'])\n",
        "# print(info)\n",
        "\n",
        "# # transforms\n",
        "# transform = transforms.Compose([\n",
        "#     transforms.ToTensor(),\n",
        "#     transforms.Normalize(mean=[.5], std=[.5])\n",
        "# ])\n",
        "\n",
        "# # Load datasets\n",
        "# train_dataset = DataClass(split='train', transform=transform, download=download)\n",
        "# test_dataset = DataClass(split='test', transform=transform, download=download)\n",
        "\n",
        "# train_loader = DataLoader(dataset=train_dataset, batch_size=128, shuffle=True)\n",
        "# test_loader = DataLoader(dataset=test_dataset, batch_size=128, shuffle=False)"
      ]
    },
    {
      "cell_type": "markdown",
      "metadata": {
        "id": "TEiGVeuuAQxS"
      },
      "source": [
        "### **Vanila VAE Model**"
      ]
    },
    {
      "cell_type": "code",
      "execution_count": 13,
      "metadata": {
        "id": "mryTlowkAWwN"
      },
      "outputs": [],
      "source": [
        "class Encoder(nn.Module):\n",
        "    def __init__(self, input_dim, hidden_dim, latent_dim):\n",
        "        super(Encoder, self).__init__()\n",
        "        self.fc1 = nn.Linear(input_dim, hidden_dim)\n",
        "        self.fc_mu = nn.Linear(hidden_dim, latent_dim)\n",
        "        self.fc_logvar = nn.Linear(hidden_dim, latent_dim)\n",
        "        self.relu = nn.ReLU()\n",
        "\n",
        "    def forward(self, x):\n",
        "        h = self.relu(self.fc1(x))\n",
        "        mu = self.fc_mu(h)\n",
        "        logvar = self.fc_logvar(h)\n",
        "        return mu, logvar\n",
        "\n",
        "class Decoder(nn.Module):\n",
        "    def __init__(self, latent_dim, hidden_dim, output_dim):\n",
        "        super(Decoder, self).__init__()\n",
        "        self.fc1 = nn.Linear(latent_dim, hidden_dim)\n",
        "        self.fc2 = nn.Linear(hidden_dim, output_dim)\n",
        "        self.relu = nn.ReLU()\n",
        "        self.sigmoid = nn.Sigmoid()\n",
        "\n",
        "    def forward(self, z):\n",
        "        h = self.relu(self.fc1(z))\n",
        "        x_hat = self.sigmoid(self.fc2(h))\n",
        "        return x_hat\n",
        "\n",
        "class VAE(nn.Module):\n",
        "    def __init__(self, input_dim, hidden_dim, latent_dim):\n",
        "        super(VAE, self).__init__()\n",
        "        self.encoder = Encoder(input_dim, hidden_dim, latent_dim)\n",
        "        self.decoder = Decoder(latent_dim, hidden_dim, input_dim)\n",
        "\n",
        "    def reparameterize(self, mu, logvar):\n",
        "        std = torch.exp(0.5 * logvar)\n",
        "        eps = torch.randn_like(std)\n",
        "        return mu + eps * std\n",
        "\n",
        "    def forward(self, x):\n",
        "        mu, logvar = self.encoder(x)\n",
        "        z = self.reparameterize(mu, logvar)\n",
        "        x_hat = self.decoder(z)\n",
        "        return x_hat, mu, logvar\n",
        "\n",
        "    def loss_function(self, x_hat, x, mu, logvar):\n",
        "        recon_loss = nn.functional.binary_cross_entropy(x_hat, x, reduction='sum')\n",
        "        kl_div = -0.5 * torch.sum(1 + logvar - mu.pow(2) - logvar.exp())\n",
        "        return recon_loss + kl_div"
      ]
    },
    {
      "cell_type": "code",
      "execution_count": 13,
      "metadata": {
        "id": "zg2n5wwW6epQ"
      },
      "outputs": [],
      "source": []
    },
    {
      "cell_type": "markdown",
      "source": [
        "## Conditional VAE Model:"
      ],
      "metadata": {
        "id": "GKrP3h9KSYBn"
      }
    },
    {
      "cell_type": "code",
      "source": [
        "# https://github.com/chendaichao/VAE-pytorch/blob/master/Models/VAE/train_cVAE.py\n",
        "import torch\n",
        "import numpy as np\n",
        "import torch.nn as nn\n",
        "from collections import OrderedDict\n",
        "\n",
        "device = torch.device('cuda' if torch.cuda.is_available() else 'cpu')\n",
        "\n",
        "class Flatten(nn.Module):\n",
        "    def __init__(self):\n",
        "        super(Flatten, self).__init__()\n",
        "    def forward(self, x):\n",
        "        batch_size = x.shape[0]\n",
        "        return x.view(batch_size, -1)\n",
        "\n",
        "class MLP(nn.Module):\n",
        "    def __init__(self, hidden_size, last_activation = True):\n",
        "        super(MLP, self).__init__()\n",
        "        q = []\n",
        "        for i in range(len(hidden_size)-1):\n",
        "            in_dim = hidden_size[i]\n",
        "            out_dim = hidden_size[i+1]\n",
        "            q.append((\"Linear_%d\" % i, nn.Linear(in_dim, out_dim)))\n",
        "            if (i < len(hidden_size)-2) or ((i == len(hidden_size) - 2) and (last_activation)):\n",
        "                q.append((\"BatchNorm_%d\" % i, nn.BatchNorm1d(out_dim)))\n",
        "                q.append((\"ReLU_%d\" % i, nn.ReLU(inplace=True)))\n",
        "        self.mlp = nn.Sequential(OrderedDict(q))\n",
        "    def forward(self, x):\n",
        "        return self.mlp(x)\n",
        "\n",
        "class Encoder(nn.Module):\n",
        "    def __init__(self, shape, nhid = 16, ncond = 0):\n",
        "        super(Encoder, self).__init__()\n",
        "        c, h, w = shape\n",
        "        ww = ((w-8)//2 - 4)//2\n",
        "        hh = ((h-8)//2 - 4)//2\n",
        "        self.encode = nn.Sequential(nn.Conv2d(c, 16, 5, padding = 0), nn.BatchNorm2d(16), nn.ReLU(inplace = True),\n",
        "                                    nn.Conv2d(16, 32, 5, padding = 0), nn.BatchNorm2d(32), nn.ReLU(inplace = True),\n",
        "                                    nn.MaxPool2d(2, 2),\n",
        "                                    nn.Conv2d(32, 64, 3, padding = 0), nn.BatchNorm2d(64), nn.ReLU(inplace = True),\n",
        "                                    nn.Conv2d(64, 64, 3, padding = 0), nn.BatchNorm2d(64), nn.ReLU(inplace = True),\n",
        "                                    nn.MaxPool2d(2, 2),\n",
        "                                    Flatten(), MLP([ww*hh*64, 256, 128])\n",
        "                                   )\n",
        "        self.calc_mean = MLP([128+ncond, 64, nhid], last_activation = False)\n",
        "        self.calc_logvar = MLP([128+ncond, 64, nhid], last_activation = False)\n",
        "\n",
        "    def forward(self, x, y = None):\n",
        "        x = self.encode(x)\n",
        "        if (y is None):\n",
        "            return self.calc_mean(x), self.calc_logvar(x)\n",
        "        else:\n",
        "            return self.calc_mean(torch.cat((x, y), dim=1)), self.calc_logvar(torch.cat((x, y), dim=1))\n",
        "\n",
        "class Decoder(nn.Module):\n",
        "    def __init__(self, shape, nhid = 16, ncond = 0):\n",
        "        super(Decoder, self).__init__()\n",
        "        c, w, h = shape\n",
        "        self.shape = shape\n",
        "        self.decode = nn.Sequential(MLP([nhid+ncond, 64, 128, 256, c*w*h], last_activation = False), nn.Sigmoid())\n",
        "\n",
        "    def forward(self, z, y = None):\n",
        "        c, w, h = self.shape\n",
        "        if (y is None):\n",
        "            return self.decode(z).view(-1, c, w, h)\n",
        "        else:\n",
        "            return self.decode(torch.cat((z, y), dim=1)).view(-1, c, w, h)\n",
        "\n",
        "# class VAE(nn.Module):\n",
        "#     def __init__(self, shape, nhid = 16):\n",
        "#         super(VAE, self).__init__()\n",
        "#         self.dim = nhid\n",
        "#         self.encoder = Encoder(shape, nhid)\n",
        "#         self.decoder = Decoder(shape, nhid)\n",
        "\n",
        "#     def sampling(self, mean, logvar):\n",
        "#         eps = torch.randn(mean.shape).to(device)\n",
        "#         sigma = 0.5 * torch.exp(logvar)\n",
        "#         return mean + eps * sigma\n",
        "\n",
        "#     def forward(self, x):\n",
        "#         mean, logvar = self.encoder(x)\n",
        "#         z = self.sampling(mean, logvar)\n",
        "#         return self.decoder(z), mean, logvar\n",
        "\n",
        "#     def generate(self, batch_size = None):\n",
        "#         z = torch.randn((batch_size, self.dim)).to(device) if batch_size else torch.randn((1, self.dim)).to(device)\n",
        "#         res = self.decoder(z)\n",
        "#         if not batch_size:\n",
        "#             res = res.squeeze(0)\n",
        "#         return res\n",
        "\n",
        "class cVAE(nn.Module):\n",
        "    def __init__(self, shape, nclass, nhid = 16, ncond = 16):\n",
        "        super(cVAE, self).__init__()\n",
        "        self.dim = nhid\n",
        "        self.encoder = Encoder(shape, nhid, ncond = ncond)\n",
        "        self.decoder = Decoder(shape, nhid, ncond = ncond)\n",
        "        self.label_embedding = nn.Embedding(nclass, ncond)\n",
        "\n",
        "    def sampling(self, mean, logvar):\n",
        "        eps = torch.randn(mean.shape).to(device)\n",
        "        sigma = 0.5 * torch.exp(logvar)\n",
        "        return mean + eps * sigma\n",
        "\n",
        "    def forward(self, x, y):\n",
        "        y = self.label_embedding(y)\n",
        "        mean, logvar = self.encoder(x, y)\n",
        "        z = self.sampling(mean, logvar)\n",
        "        return self.decoder(z, y), mean, logvar\n",
        "\n",
        "    def generate(self, class_idx):\n",
        "        if (type(class_idx) is int):\n",
        "            class_idx = torch.tensor(class_idx)\n",
        "        class_idx = class_idx.to(device)\n",
        "        if (len(class_idx.shape) == 0):\n",
        "            batch_size = None\n",
        "            class_idx = class_idx.unsqueeze(0)\n",
        "            z = torch.randn((1, self.dim)).to(device)\n",
        "        else:\n",
        "            batch_size = class_idx.shape[0]\n",
        "            z = torch.randn((batch_size, self.dim)).to(device)\n",
        "        y = self.label_embedding(class_idx)\n",
        "        res = self.decoder(z, y)\n",
        "        if not batch_size:\n",
        "            res = res.squeeze(0)\n",
        "        return res\n",
        "\n",
        "BCE_loss = nn.BCELoss(reduction = \"sum\")\n",
        "def loss(X, X_hat, mean, logvar):\n",
        "    reconstruction_loss = BCE_loss(X_hat, X)\n",
        "    KL_divergence = 0.5 * torch.sum(-1 - logvar + torch.exp(logvar) + mean**2)\n",
        "    return reconstruction_loss + KL_divergence"
      ],
      "metadata": {
        "id": "L-N40MH1SbU2"
      },
      "execution_count": 14,
      "outputs": []
    },
    {
      "cell_type": "code",
      "source": [],
      "metadata": {
        "id": "QYl-hLDYSsuI"
      },
      "execution_count": 14,
      "outputs": []
    },
    {
      "cell_type": "markdown",
      "source": [
        "### **Conditional VAE Model Initialisation**"
      ],
      "metadata": {
        "id": "B725CbInS6xM"
      }
    },
    {
      "cell_type": "code",
      "source": [
        "device = torch.device('cuda' if torch.cuda.is_available() else 'cpu')\n",
        "\n",
        "net = cVAE(shape = (3, 28, 28), nclass= 3, nhid = 2, ncond = 16)\n",
        "net.to(device)\n",
        "print(net)\n",
        "save_name = \"cVAE.pt\"\n",
        "\n"
      ],
      "metadata": {
        "colab": {
          "base_uri": "https://localhost:8080/"
        },
        "id": "m3Ke38hqS9O1",
        "outputId": "0c18c47c-97fa-4fde-be33-07118effad22"
      },
      "execution_count": 15,
      "outputs": [
        {
          "output_type": "stream",
          "name": "stdout",
          "text": [
            "cVAE(\n",
            "  (encoder): Encoder(\n",
            "    (encode): Sequential(\n",
            "      (0): Conv2d(3, 16, kernel_size=(5, 5), stride=(1, 1))\n",
            "      (1): BatchNorm2d(16, eps=1e-05, momentum=0.1, affine=True, track_running_stats=True)\n",
            "      (2): ReLU(inplace=True)\n",
            "      (3): Conv2d(16, 32, kernel_size=(5, 5), stride=(1, 1))\n",
            "      (4): BatchNorm2d(32, eps=1e-05, momentum=0.1, affine=True, track_running_stats=True)\n",
            "      (5): ReLU(inplace=True)\n",
            "      (6): MaxPool2d(kernel_size=2, stride=2, padding=0, dilation=1, ceil_mode=False)\n",
            "      (7): Conv2d(32, 64, kernel_size=(3, 3), stride=(1, 1))\n",
            "      (8): BatchNorm2d(64, eps=1e-05, momentum=0.1, affine=True, track_running_stats=True)\n",
            "      (9): ReLU(inplace=True)\n",
            "      (10): Conv2d(64, 64, kernel_size=(3, 3), stride=(1, 1))\n",
            "      (11): BatchNorm2d(64, eps=1e-05, momentum=0.1, affine=True, track_running_stats=True)\n",
            "      (12): ReLU(inplace=True)\n",
            "      (13): MaxPool2d(kernel_size=2, stride=2, padding=0, dilation=1, ceil_mode=False)\n",
            "      (14): Flatten()\n",
            "      (15): MLP(\n",
            "        (mlp): Sequential(\n",
            "          (Linear_0): Linear(in_features=576, out_features=256, bias=True)\n",
            "          (BatchNorm_0): BatchNorm1d(256, eps=1e-05, momentum=0.1, affine=True, track_running_stats=True)\n",
            "          (ReLU_0): ReLU(inplace=True)\n",
            "          (Linear_1): Linear(in_features=256, out_features=128, bias=True)\n",
            "          (BatchNorm_1): BatchNorm1d(128, eps=1e-05, momentum=0.1, affine=True, track_running_stats=True)\n",
            "          (ReLU_1): ReLU(inplace=True)\n",
            "        )\n",
            "      )\n",
            "    )\n",
            "    (calc_mean): MLP(\n",
            "      (mlp): Sequential(\n",
            "        (Linear_0): Linear(in_features=144, out_features=64, bias=True)\n",
            "        (BatchNorm_0): BatchNorm1d(64, eps=1e-05, momentum=0.1, affine=True, track_running_stats=True)\n",
            "        (ReLU_0): ReLU(inplace=True)\n",
            "        (Linear_1): Linear(in_features=64, out_features=2, bias=True)\n",
            "      )\n",
            "    )\n",
            "    (calc_logvar): MLP(\n",
            "      (mlp): Sequential(\n",
            "        (Linear_0): Linear(in_features=144, out_features=64, bias=True)\n",
            "        (BatchNorm_0): BatchNorm1d(64, eps=1e-05, momentum=0.1, affine=True, track_running_stats=True)\n",
            "        (ReLU_0): ReLU(inplace=True)\n",
            "        (Linear_1): Linear(in_features=64, out_features=2, bias=True)\n",
            "      )\n",
            "    )\n",
            "  )\n",
            "  (decoder): Decoder(\n",
            "    (decode): Sequential(\n",
            "      (0): MLP(\n",
            "        (mlp): Sequential(\n",
            "          (Linear_0): Linear(in_features=18, out_features=64, bias=True)\n",
            "          (BatchNorm_0): BatchNorm1d(64, eps=1e-05, momentum=0.1, affine=True, track_running_stats=True)\n",
            "          (ReLU_0): ReLU(inplace=True)\n",
            "          (Linear_1): Linear(in_features=64, out_features=128, bias=True)\n",
            "          (BatchNorm_1): BatchNorm1d(128, eps=1e-05, momentum=0.1, affine=True, track_running_stats=True)\n",
            "          (ReLU_1): ReLU(inplace=True)\n",
            "          (Linear_2): Linear(in_features=128, out_features=256, bias=True)\n",
            "          (BatchNorm_2): BatchNorm1d(256, eps=1e-05, momentum=0.1, affine=True, track_running_stats=True)\n",
            "          (ReLU_2): ReLU(inplace=True)\n",
            "          (Linear_3): Linear(in_features=256, out_features=2352, bias=True)\n",
            "        )\n",
            "      )\n",
            "      (1): Sigmoid()\n",
            "    )\n",
            "  )\n",
            "  (label_embedding): Embedding(3, 16)\n",
            ")\n"
          ]
        }
      ]
    },
    {
      "cell_type": "code",
      "source": [],
      "metadata": {
        "id": "lV5OVkUvTPM8"
      },
      "execution_count": 15,
      "outputs": []
    },
    {
      "cell_type": "markdown",
      "source": [
        "## **Init Optimizer**"
      ],
      "metadata": {
        "id": "OZN_5kncTqV3"
      }
    },
    {
      "cell_type": "code",
      "source": [
        "lr = 0.01\n",
        "optimizer = torch.optim.Adam(filter(lambda p: p.requires_grad, net.parameters()), lr=lr, weight_decay = 0.0001)\n",
        "\n",
        "def adjust_lr(optimizer, decay_rate=0.95):\n",
        "    for param_group in optimizer.param_groups:\n",
        "        param_group['lr'] *= decay_rate\n",
        "\n",
        "retrain = True\n",
        "save_name = \"/content/drive/My Drive/TUDa/Semester1/DeepDGM/cVAE/checkpoints/model_checkpoint.pth\"\n",
        "if os.path.exists(save_name):\n",
        "    print(\"Model parameters have already been trained before. Retrain ? (y/n)\")\n",
        "    ans = input()\n",
        "    if not (ans == 'y'):\n",
        "        checkpoint = torch.load(save_name, map_location = device)\n",
        "        net.load_state_dict(checkpoint[\"model_state_dict\"])\n",
        "        optimizer.load_state_dict(checkpoint[\"optimizer_state_dict\"])\n",
        "        for g in optimizer.param_groups:\n",
        "            g['lr'] = lr"
      ],
      "metadata": {
        "id": "Ls2Cc_sWTxPn"
      },
      "execution_count": 16,
      "outputs": []
    },
    {
      "cell_type": "code",
      "source": [
        "max_epochs = 50\n",
        "# early_stop = EarlyStop(patience = 20, save_name = save_name)\n",
        "net = net.to(device)"
      ],
      "metadata": {
        "id": "Rhoauv3JTzrb"
      },
      "execution_count": 26,
      "outputs": []
    },
    {
      "cell_type": "markdown",
      "source": [],
      "metadata": {
        "id": "fTyPSonuMJRt"
      }
    },
    {
      "cell_type": "markdown",
      "source": [
        "## **Training**"
      ],
      "metadata": {
        "id": "iIYSv1qlUh0D"
      }
    },
    {
      "cell_type": "code",
      "source": [
        "import time\n",
        "def train(net, device, max_epochs, train_loader, optimizer):\n",
        "    print(\"training on \", device)\n",
        "    for epoch in range(max_epochs):\n",
        "\n",
        "        train_loss, n, start = 0.0, 0, time.time()\n",
        "        for X, y in train_loader:\n",
        "            X = X.to(device)\n",
        "            y = y.to(device)\n",
        "            X_hat, mean, logvar = net(X, y)\n",
        "\n",
        "            l = loss(X, X_hat, mean, logvar).to(device)\n",
        "            optimizer.zero_grad()\n",
        "            l.backward()\n",
        "            optimizer.step()\n",
        "\n",
        "            train_loss += l.cpu().item()\n",
        "            n += X.shape[0]\n",
        "\n",
        "        train_loss /= n\n",
        "        print('epoch %d, train loss %.4f , time %.1f sec'\n",
        "            % (epoch, train_loss, time.time() - start))\n",
        "\n",
        "        adjust_lr(optimizer)\n"
      ],
      "metadata": {
        "id": "D3_o4l0oUlf_"
      },
      "execution_count": 18,
      "outputs": []
    },
    {
      "cell_type": "code",
      "source": [
        "train(net, device, max_epochs, train_loader, optimizer)"
      ],
      "metadata": {
        "colab": {
          "base_uri": "https://localhost:8080/"
        },
        "id": "8sloSjezkp3N",
        "outputId": "6d6aba83-9a9d-4f29-adc2-1a2b90fa3329"
      },
      "execution_count": 27,
      "outputs": [
        {
          "output_type": "stream",
          "name": "stdout",
          "text": [
            "training on  cuda\n",
            "epoch 0, train loss 1209.1242 , time 49.4 sec\n",
            "epoch 1, train loss 1208.9927 , time 46.4 sec\n",
            "epoch 2, train loss 1207.9015 , time 47.8 sec\n",
            "epoch 3, train loss 1208.1341 , time 48.0 sec\n",
            "epoch 4, train loss 1207.5987 , time 47.4 sec\n",
            "epoch 5, train loss 1207.1670 , time 47.2 sec\n",
            "epoch 6, train loss 1206.5887 , time 48.9 sec\n",
            "epoch 7, train loss 1206.9083 , time 46.5 sec\n",
            "epoch 8, train loss 1206.6822 , time 46.6 sec\n",
            "epoch 9, train loss 1206.6401 , time 46.1 sec\n",
            "epoch 10, train loss 1205.9170 , time 46.9 sec\n",
            "epoch 11, train loss 1205.8740 , time 46.4 sec\n",
            "epoch 12, train loss 1205.5315 , time 46.2 sec\n",
            "epoch 13, train loss 1205.7251 , time 46.9 sec\n",
            "epoch 14, train loss 1205.8232 , time 47.2 sec\n",
            "epoch 15, train loss 1205.3863 , time 47.0 sec\n",
            "epoch 16, train loss 1204.8390 , time 45.8 sec\n",
            "epoch 17, train loss 1204.6791 , time 46.3 sec\n",
            "epoch 18, train loss 1204.5513 , time 47.8 sec\n",
            "epoch 19, train loss 1204.5310 , time 46.3 sec\n",
            "epoch 20, train loss 1204.4129 , time 46.8 sec\n",
            "epoch 21, train loss 1204.4738 , time 45.6 sec\n",
            "epoch 22, train loss 1203.9727 , time 48.1 sec\n",
            "epoch 23, train loss 1203.9579 , time 45.8 sec\n",
            "epoch 24, train loss 1203.8275 , time 46.9 sec\n",
            "epoch 25, train loss 1203.8539 , time 47.0 sec\n",
            "epoch 26, train loss 1203.6302 , time 46.8 sec\n",
            "epoch 27, train loss 1203.5043 , time 46.0 sec\n",
            "epoch 28, train loss 1203.3197 , time 46.8 sec\n",
            "epoch 29, train loss 1203.2080 , time 47.1 sec\n",
            "epoch 30, train loss 1203.0942 , time 46.5 sec\n",
            "epoch 31, train loss 1203.0386 , time 45.4 sec\n",
            "epoch 32, train loss 1202.9473 , time 47.9 sec\n",
            "epoch 33, train loss 1202.7135 , time 46.1 sec\n",
            "epoch 34, train loss 1202.6704 , time 45.9 sec\n",
            "epoch 35, train loss 1202.5601 , time 44.9 sec\n",
            "epoch 36, train loss 1202.5041 , time 45.1 sec\n",
            "epoch 37, train loss 1202.4392 , time 46.3 sec\n",
            "epoch 38, train loss 1202.3344 , time 44.7 sec\n",
            "epoch 39, train loss 1202.4182 , time 45.5 sec\n",
            "epoch 40, train loss 1202.3584 , time 44.5 sec\n",
            "epoch 41, train loss 1202.1182 , time 47.0 sec\n",
            "epoch 42, train loss 1202.0595 , time 47.5 sec\n",
            "epoch 43, train loss 1202.1498 , time 46.0 sec\n",
            "epoch 44, train loss 1201.9872 , time 46.1 sec\n",
            "epoch 45, train loss 1202.0652 , time 48.3 sec\n",
            "epoch 46, train loss 1201.8824 , time 46.1 sec\n",
            "epoch 47, train loss 1201.7678 , time 45.6 sec\n",
            "epoch 48, train loss 1201.7239 , time 46.0 sec\n",
            "epoch 49, train loss 1201.8938 , time 46.4 sec\n"
          ]
        }
      ]
    },
    {
      "cell_type": "code",
      "source": [],
      "metadata": {
        "id": "9TDl9XoqnFRL"
      },
      "execution_count": null,
      "outputs": []
    },
    {
      "cell_type": "markdown",
      "source": [
        "## **Mount Drive to save checkpoint**"
      ],
      "metadata": {
        "id": "Zspy6bihqOIM"
      }
    },
    {
      "cell_type": "markdown",
      "source": [
        "## **Save Model**"
      ],
      "metadata": {
        "id": "r7rCv9tWlQ3-"
      }
    },
    {
      "cell_type": "code",
      "source": [
        "def save_model(model, optimizer, path='model_checkpoint.pth'):\n",
        "    \"\"\"\n",
        "    Save the model and optimizer state to a file.\n",
        "\n",
        "    Parameters:\n",
        "    - model: The PyTorch model to save.\n",
        "    - optimizer: The optimizer used for training the model.\n",
        "    - epoch: The current training epoch.\n",
        "    - loss: The loss at the time of saving.\n",
        "    - path: The file path to save the checkpoint.\n",
        "    \"\"\"\n",
        "\n",
        "    %cd /content/drive/My Drive/TUDa/Semester1/DeepDGM/cVAE/checkpoints/\n",
        "    torch.save({\n",
        "        # 'epoch': epoch,\n",
        "        'model_state_dict': model.state_dict(),\n",
        "        'optimizer_state_dict': optimizer.state_dict(),\n",
        "        # 'loss': loss,\n",
        "    }, path)\n",
        "    print(f\"Checkpoint saved at {path}\")\n"
      ],
      "metadata": {
        "id": "nM9c1law8Y4F"
      },
      "execution_count": 20,
      "outputs": []
    },
    {
      "cell_type": "markdown",
      "source": [],
      "metadata": {
        "id": "twl_XP5YqM_Y"
      }
    },
    {
      "cell_type": "markdown",
      "source": [
        "## **Load Model**"
      ],
      "metadata": {
        "id": "i_MFeuHOlxyw"
      }
    },
    {
      "cell_type": "code",
      "source": [
        "\n",
        "\n",
        "def load_model(model, optimizer, path='model_checkpoint.pth'):\n",
        "    \"\"\"\n",
        "    Load the model and optimizer state from a file.\n",
        "\n",
        "    Parameters:\n",
        "    - model: The PyTorch model to load the state into.\n",
        "    - optimizer: The optimizer to load the state into.\n",
        "    - path: The file path to load the checkpoint from.\n",
        "\n",
        "    Returns:\n",
        "    - epoch: The epoch at which the checkpoint was saved.\n",
        "    - loss: The loss at the time of saving.\n",
        "    \"\"\"\n",
        "\n",
        "    %cd /content/drive/My Drive/TUDa/Semester1/DeepDGM/cVAE/checkpoints/\n",
        "    checkpoint = torch.load(path)\n",
        "    model.load_state_dict(checkpoint['model_state_dict'])\n",
        "    optimizer.load_state_dict(checkpoint['optimizer_state_dict'])\n",
        "    # epoch = checkpoint['epoch']\n",
        "    # loss = checkpoint['loss']\n",
        "    print(f\"Checkpoint loaded from {path} \")\n",
        "\n"
      ],
      "metadata": {
        "id": "17meDXBTlYV2"
      },
      "execution_count": 21,
      "outputs": []
    },
    {
      "cell_type": "code",
      "source": [
        "save_model(net, optimizer, path='model_checkpoint.60th')"
      ],
      "metadata": {
        "colab": {
          "base_uri": "https://localhost:8080/"
        },
        "id": "peEbxkZgnCik",
        "outputId": "0773d0d8-1c32-426f-c05f-e5c19a5b6144"
      },
      "execution_count": 28,
      "outputs": [
        {
          "output_type": "stream",
          "name": "stdout",
          "text": [
            "/content/drive/My Drive/TUDa/Semester1/DeepDGM/cVAE/checkpoints\n",
            "Checkpoint saved at model_checkpoint.60th\n"
          ]
        }
      ]
    },
    {
      "cell_type": "markdown",
      "source": [
        "## **Genearate Samples**"
      ],
      "metadata": {
        "id": "vBdLURPi_Pkz"
      }
    },
    {
      "cell_type": "code",
      "source": [
        "from matplotlib import pyplot as plt\n",
        "from matplotlib import cm\n",
        "\n",
        "with torch.no_grad():\n",
        "    x = net.generate(torch.tensor([list(range(3))] * 5).clone().view(-1))\n",
        "\n",
        "for i in range(15):\n",
        "    plt.subplot(5, 3 , i+1)\n",
        "    plt.axis(\"off\")\n",
        "    img = x[i].permute(1, 2, 0).cpu().numpy()\n",
        "    plt.imshow(img)\n",
        "plt.show()"
      ],
      "metadata": {
        "id": "95rnhYNI90gT",
        "colab": {
          "base_uri": "https://localhost:8080/",
          "height": 406
        },
        "outputId": "925abdad-cea9-4f9c-8362-6c444eb09b9c"
      },
      "execution_count": 29,
      "outputs": [
        {
          "output_type": "display_data",
          "data": {
            "text/plain": [
              "<Figure size 640x480 with 15 Axes>"
            ],
            "image/png": "[encoded data removed]"
          },
          "metadata": {}
        }
      ]
    },
    {
      "cell_type": "code",
      "source": [
        ""
      ],
      "metadata": {
        "id": "53j5MWi1HokK"
      },
      "execution_count": null,
      "outputs": []
    },
    {
      "cell_type": "code",
      "source": [
        ""
      ],
      "metadata": {
        "id": "9dKTqsRjzGdr"
      },
      "execution_count": null,
      "outputs": []
    }
  ],
  "metadata": {
    "colab": {
      "provenance": [],
      "gpuType": "T4"
    },
    "kernelspec": {
      "display_name": "Python 3",
      "name": "python3"
    },
    "language_info": {
      "name": "python"
    },
    "accelerator": "GPU"
  },
  "nbformat": 4,
  "nbformat_minor": 0
}